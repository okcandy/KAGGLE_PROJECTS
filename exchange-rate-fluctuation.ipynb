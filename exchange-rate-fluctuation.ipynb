{
 "cells": [
  {
   "cell_type": "markdown",
   "id": "3a2d08e0",
   "metadata": {
    "_cell_guid": "b1076dfc-b9ad-4769-8c92-a6c4dae69d19",
    "_uuid": "8f2839f25d086af736a60e9eeb907d3b93b6e0e5",
    "papermill": {
     "duration": 0.00458,
     "end_time": "2023-11-23T22:03:24.875272",
     "exception": false,
     "start_time": "2023-11-23T22:03:24.870692",
     "status": "completed"
    },
    "tags": []
   },
   "source": [
    "# **Overview**"
   ]
  },
  {
   "cell_type": "markdown",
   "id": "191cc931",
   "metadata": {
    "papermill": {
     "duration": 0.003926,
     "end_time": "2023-11-23T22:03:24.885359",
     "exception": false,
     "start_time": "2023-11-23T22:03:24.881433",
     "status": "completed"
    },
    "tags": []
   },
   "source": [
    "Using forex exchange rate historical data to analyze and predict fluctuations between the values of KES against USD"
   ]
  },
  {
   "cell_type": "markdown",
   "id": "f8831980",
   "metadata": {
    "papermill": {
     "duration": 0.003866,
     "end_time": "2023-11-23T22:03:24.893324",
     "exception": false,
     "start_time": "2023-11-23T22:03:24.889458",
     "status": "completed"
    },
    "tags": []
   },
   "source": [
    "## **Libraries**"
   ]
  },
  {
   "cell_type": "code",
   "execution_count": 1,
   "id": "dfdb0a6d",
   "metadata": {
    "execution": {
     "iopub.execute_input": "2023-11-23T22:03:24.904028Z",
     "iopub.status.busy": "2023-11-23T22:03:24.903186Z",
     "iopub.status.idle": "2023-11-23T22:03:27.480272Z",
     "shell.execute_reply": "2023-11-23T22:03:27.479137Z"
    },
    "papermill": {
     "duration": 2.586021,
     "end_time": "2023-11-23T22:03:27.483416",
     "exception": false,
     "start_time": "2023-11-23T22:03:24.897395",
     "status": "completed"
    },
    "tags": []
   },
   "outputs": [],
   "source": [
    "import pandas as pd\n",
    "import numpy as np\n",
    "import matplotlib.pyplot as plt\n",
    "import seaborn as sns\n",
    "import plotly.express as px\n",
    "\n",
    "%matplotlib inline"
   ]
  },
  {
   "cell_type": "markdown",
   "id": "8d6de3a4",
   "metadata": {
    "papermill": {
     "duration": 0.003917,
     "end_time": "2023-11-23T22:03:27.492414",
     "exception": false,
     "start_time": "2023-11-23T22:03:27.488497",
     "status": "completed"
    },
    "tags": []
   },
   "source": [
    "## **Dataset**"
   ]
  },
  {
   "cell_type": "code",
   "execution_count": 2,
   "id": "b2ea21f1",
   "metadata": {
    "execution": {
     "iopub.execute_input": "2023-11-23T22:03:27.503531Z",
     "iopub.status.busy": "2023-11-23T22:03:27.502148Z",
     "iopub.status.idle": "2023-11-23T22:03:28.020068Z",
     "shell.execute_reply": "2023-11-23T22:03:28.019156Z"
    },
    "papermill": {
     "duration": 0.526179,
     "end_time": "2023-11-23T22:03:28.022823",
     "exception": false,
     "start_time": "2023-11-23T22:03:27.496644",
     "status": "completed"
    },
    "tags": []
   },
   "outputs": [],
   "source": [
    "# Loading csv file into the dataframe\n",
    "data = pd.read_csv('/kaggle/input/forex-exchange-rate-since-2004-updated-daily/daily_forex_rates.csv')"
   ]
  },
  {
   "cell_type": "code",
   "execution_count": 3,
   "id": "7047db24",
   "metadata": {
    "execution": {
     "iopub.execute_input": "2023-11-23T22:03:28.034608Z",
     "iopub.status.busy": "2023-11-23T22:03:28.032732Z",
     "iopub.status.idle": "2023-11-23T22:03:28.062912Z",
     "shell.execute_reply": "2023-11-23T22:03:28.061986Z"
    },
    "papermill": {
     "duration": 0.037945,
     "end_time": "2023-11-23T22:03:28.065177",
     "exception": false,
     "start_time": "2023-11-23T22:03:28.027232",
     "status": "completed"
    },
    "tags": []
   },
   "outputs": [
    {
     "data": {
      "text/html": [
       "<div>\n",
       "<style scoped>\n",
       "    .dataframe tbody tr th:only-of-type {\n",
       "        vertical-align: middle;\n",
       "    }\n",
       "\n",
       "    .dataframe tbody tr th {\n",
       "        vertical-align: top;\n",
       "    }\n",
       "\n",
       "    .dataframe thead th {\n",
       "        text-align: right;\n",
       "    }\n",
       "</style>\n",
       "<table border=\"1\" class=\"dataframe\">\n",
       "  <thead>\n",
       "    <tr style=\"text-align: right;\">\n",
       "      <th></th>\n",
       "      <th>currency</th>\n",
       "      <th>base_currency</th>\n",
       "      <th>currency_name</th>\n",
       "      <th>exchange_rate</th>\n",
       "      <th>date</th>\n",
       "    </tr>\n",
       "  </thead>\n",
       "  <tbody>\n",
       "    <tr>\n",
       "      <th>0</th>\n",
       "      <td>ZWL</td>\n",
       "      <td>EUR</td>\n",
       "      <td>Zimbabwean Dollar</td>\n",
       "      <td>350.552056</td>\n",
       "      <td>2023-11-22</td>\n",
       "    </tr>\n",
       "    <tr>\n",
       "      <th>1</th>\n",
       "      <td>GHS</td>\n",
       "      <td>EUR</td>\n",
       "      <td>Ghanaian Cedi</td>\n",
       "      <td>12.996958</td>\n",
       "      <td>2023-11-22</td>\n",
       "    </tr>\n",
       "    <tr>\n",
       "      <th>2</th>\n",
       "      <td>HRK</td>\n",
       "      <td>EUR</td>\n",
       "      <td>Croatian Kuna</td>\n",
       "      <td>7.665963</td>\n",
       "      <td>2023-11-22</td>\n",
       "    </tr>\n",
       "    <tr>\n",
       "      <th>3</th>\n",
       "      <td>HNL</td>\n",
       "      <td>EUR</td>\n",
       "      <td>Honduran Lempira</td>\n",
       "      <td>26.867725</td>\n",
       "      <td>2023-11-22</td>\n",
       "    </tr>\n",
       "    <tr>\n",
       "      <th>4</th>\n",
       "      <td>HKD</td>\n",
       "      <td>EUR</td>\n",
       "      <td>Hong Kong Dollar</td>\n",
       "      <td>8.487236</td>\n",
       "      <td>2023-11-22</td>\n",
       "    </tr>\n",
       "    <tr>\n",
       "      <th>...</th>\n",
       "      <td>...</td>\n",
       "      <td>...</td>\n",
       "      <td>...</td>\n",
       "      <td>...</td>\n",
       "      <td>...</td>\n",
       "    </tr>\n",
       "    <tr>\n",
       "      <th>65</th>\n",
       "      <td>BTC</td>\n",
       "      <td>EUR</td>\n",
       "      <td>Bitcoin</td>\n",
       "      <td>0.000029</td>\n",
       "      <td>2023-11-22</td>\n",
       "    </tr>\n",
       "    <tr>\n",
       "      <th>66</th>\n",
       "      <td>CZK</td>\n",
       "      <td>EUR</td>\n",
       "      <td>Czech Republic Koruna</td>\n",
       "      <td>24.458440</td>\n",
       "      <td>2023-11-22</td>\n",
       "    </tr>\n",
       "    <tr>\n",
       "      <th>67</th>\n",
       "      <td>CVE</td>\n",
       "      <td>EUR</td>\n",
       "      <td>Cape Verdean Escudo</td>\n",
       "      <td>110.054969</td>\n",
       "      <td>2023-11-22</td>\n",
       "    </tr>\n",
       "    <tr>\n",
       "      <th>68</th>\n",
       "      <td>CUP</td>\n",
       "      <td>EUR</td>\n",
       "      <td>Cuban Peso</td>\n",
       "      <td>28.849818</td>\n",
       "      <td>2023-11-22</td>\n",
       "    </tr>\n",
       "    <tr>\n",
       "      <th>69</th>\n",
       "      <td>CUC</td>\n",
       "      <td>EUR</td>\n",
       "      <td>Cuban Convertible Peso</td>\n",
       "      <td>1.088672</td>\n",
       "      <td>2023-11-22</td>\n",
       "    </tr>\n",
       "  </tbody>\n",
       "</table>\n",
       "<p>70 rows × 5 columns</p>\n",
       "</div>"
      ],
      "text/plain": [
       "   currency base_currency           currency_name  exchange_rate        date\n",
       "0       ZWL           EUR       Zimbabwean Dollar     350.552056  2023-11-22\n",
       "1       GHS           EUR           Ghanaian Cedi      12.996958  2023-11-22\n",
       "2       HRK           EUR           Croatian Kuna       7.665963  2023-11-22\n",
       "3       HNL           EUR        Honduran Lempira      26.867725  2023-11-22\n",
       "4       HKD           EUR        Hong Kong Dollar       8.487236  2023-11-22\n",
       "..      ...           ...                     ...            ...         ...\n",
       "65      BTC           EUR                 Bitcoin       0.000029  2023-11-22\n",
       "66      CZK           EUR   Czech Republic Koruna      24.458440  2023-11-22\n",
       "67      CVE           EUR     Cape Verdean Escudo     110.054969  2023-11-22\n",
       "68      CUP           EUR              Cuban Peso      28.849818  2023-11-22\n",
       "69      CUC           EUR  Cuban Convertible Peso       1.088672  2023-11-22\n",
       "\n",
       "[70 rows x 5 columns]"
      ]
     },
     "execution_count": 3,
     "metadata": {},
     "output_type": "execute_result"
    }
   ],
   "source": [
    "# Data overview\n",
    "data.head(70)"
   ]
  },
  {
   "cell_type": "code",
   "execution_count": 4,
   "id": "494da97d",
   "metadata": {
    "execution": {
     "iopub.execute_input": "2023-11-23T22:03:28.076344Z",
     "iopub.status.busy": "2023-11-23T22:03:28.075702Z",
     "iopub.status.idle": "2023-11-23T22:03:28.229459Z",
     "shell.execute_reply": "2023-11-23T22:03:28.228367Z"
    },
    "papermill": {
     "duration": 0.161936,
     "end_time": "2023-11-23T22:03:28.231795",
     "exception": false,
     "start_time": "2023-11-23T22:03:28.069859",
     "status": "completed"
    },
    "tags": []
   },
   "outputs": [
    {
     "name": "stdout",
     "output_type": "stream",
     "text": [
      "<class 'pandas.core.frame.DataFrame'>\n",
      "RangeIndex: 320853 entries, 0 to 320852\n",
      "Data columns (total 5 columns):\n",
      " #   Column         Non-Null Count   Dtype  \n",
      "---  ------         --------------   -----  \n",
      " 0   currency       320853 non-null  object \n",
      " 1   base_currency  320853 non-null  object \n",
      " 2   currency_name  320853 non-null  object \n",
      " 3   exchange_rate  320853 non-null  float64\n",
      " 4   date           320853 non-null  object \n",
      "dtypes: float64(1), object(4)\n",
      "memory usage: 12.2+ MB\n"
     ]
    }
   ],
   "source": [
    "data.info()"
   ]
  },
  {
   "cell_type": "code",
   "execution_count": 5,
   "id": "b5a9ee94",
   "metadata": {
    "execution": {
     "iopub.execute_input": "2023-11-23T22:03:28.243119Z",
     "iopub.status.busy": "2023-11-23T22:03:28.242541Z",
     "iopub.status.idle": "2023-11-23T22:03:28.276937Z",
     "shell.execute_reply": "2023-11-23T22:03:28.275832Z"
    },
    "papermill": {
     "duration": 0.042779,
     "end_time": "2023-11-23T22:03:28.279318",
     "exception": false,
     "start_time": "2023-11-23T22:03:28.236539",
     "status": "completed"
    },
    "tags": []
   },
   "outputs": [
    {
     "data": {
      "text/html": [
       "<div>\n",
       "<style scoped>\n",
       "    .dataframe tbody tr th:only-of-type {\n",
       "        vertical-align: middle;\n",
       "    }\n",
       "\n",
       "    .dataframe tbody tr th {\n",
       "        vertical-align: top;\n",
       "    }\n",
       "\n",
       "    .dataframe thead th {\n",
       "        text-align: right;\n",
       "    }\n",
       "</style>\n",
       "<table border=\"1\" class=\"dataframe\">\n",
       "  <thead>\n",
       "    <tr style=\"text-align: right;\">\n",
       "      <th></th>\n",
       "      <th>exchange_rate</th>\n",
       "    </tr>\n",
       "  </thead>\n",
       "  <tbody>\n",
       "    <tr>\n",
       "      <th>count</th>\n",
       "      <td>3.208530e+05</td>\n",
       "    </tr>\n",
       "    <tr>\n",
       "      <th>mean</th>\n",
       "      <td>3.863666e+03</td>\n",
       "    </tr>\n",
       "    <tr>\n",
       "      <th>std</th>\n",
       "      <td>9.357191e+04</td>\n",
       "    </tr>\n",
       "    <tr>\n",
       "      <th>min</th>\n",
       "      <td>2.876543e-05</td>\n",
       "    </tr>\n",
       "    <tr>\n",
       "      <th>25%</th>\n",
       "      <td>2.775700e+00</td>\n",
       "    </tr>\n",
       "    <tr>\n",
       "      <th>50%</th>\n",
       "      <td>1.713200e+01</td>\n",
       "    </tr>\n",
       "    <tr>\n",
       "      <th>75%</th>\n",
       "      <td>1.454249e+02</td>\n",
       "    </tr>\n",
       "    <tr>\n",
       "      <th>max</th>\n",
       "      <td>4.881841e+06</td>\n",
       "    </tr>\n",
       "  </tbody>\n",
       "</table>\n",
       "</div>"
      ],
      "text/plain": [
       "       exchange_rate\n",
       "count   3.208530e+05\n",
       "mean    3.863666e+03\n",
       "std     9.357191e+04\n",
       "min     2.876543e-05\n",
       "25%     2.775700e+00\n",
       "50%     1.713200e+01\n",
       "75%     1.454249e+02\n",
       "max     4.881841e+06"
      ]
     },
     "execution_count": 5,
     "metadata": {},
     "output_type": "execute_result"
    }
   ],
   "source": [
    "data.describe()"
   ]
  },
  {
   "cell_type": "code",
   "execution_count": 6,
   "id": "3f9ef34e",
   "metadata": {
    "execution": {
     "iopub.execute_input": "2023-11-23T22:03:28.291327Z",
     "iopub.status.busy": "2023-11-23T22:03:28.290723Z",
     "iopub.status.idle": "2023-11-23T22:03:28.429903Z",
     "shell.execute_reply": "2023-11-23T22:03:28.428750Z"
    },
    "papermill": {
     "duration": 0.147751,
     "end_time": "2023-11-23T22:03:28.432203",
     "exception": false,
     "start_time": "2023-11-23T22:03:28.284452",
     "status": "completed"
    },
    "tags": []
   },
   "outputs": [
    {
     "name": "stdout",
     "output_type": "stream",
     "text": [
      "currency         0\n",
      "base_currency    0\n",
      "currency_name    0\n",
      "exchange_rate    0\n",
      "date             0\n",
      "dtype: int64\n"
     ]
    }
   ],
   "source": [
    "# Checking for null values\n",
    "print(data.isnull().sum())"
   ]
  },
  {
   "cell_type": "code",
   "execution_count": 7,
   "id": "99ed74f6",
   "metadata": {
    "execution": {
     "iopub.execute_input": "2023-11-23T22:03:28.445877Z",
     "iopub.status.busy": "2023-11-23T22:03:28.445501Z",
     "iopub.status.idle": "2023-11-23T22:03:28.992885Z",
     "shell.execute_reply": "2023-11-23T22:03:28.991795Z"
    },
    "papermill": {
     "duration": 0.557241,
     "end_time": "2023-11-23T22:03:28.995959",
     "exception": false,
     "start_time": "2023-11-23T22:03:28.438718",
     "status": "completed"
    },
    "tags": []
   },
   "outputs": [
    {
     "data": {
      "image/png": "[encoded data removed]",
      "text/plain": [
       "<Figure size 1000x600 with 1 Axes>"
      ]
     },
     "metadata": {},
     "output_type": "display_data"
    }
   ],
   "source": [
    "# Historical exchange rates between KES/EUR\n",
    "my_currency_index = data['currency'] == 'KES'\n",
    "data.loc[my_currency_index, 'date'] = pd.to_datetime(data.loc[my_currency_index, 'date'])\n",
    "my_currency = data[my_currency_index]                                  \n",
    "my_currency = my_currency.sort_values(by='date')\n",
    "\n",
    "\n",
    "plt.figure(figsize=(10, 6))\n",
    "plt.plot(my_currency['date'], my_currency['exchange_rate'], marker = 'o', linestyle = '-')\n",
    "plt.xlabel(\"Date\")\n",
    "plt.ylabel(\"KES - Kenya Shillings\")\n",
    "plt.title(\"Exchange rate (EUR to KES)\")                                                      \n",
    "plt.xticks(rotation=45)\n",
    "plt.grid(True)\n",
    "plt.tight_layout()\n",
    "\n",
    "\n",
    "plt.show()\n",
    "\n"
   ]
  },
  {
   "cell_type": "markdown",
   "id": "d0437d42",
   "metadata": {
    "papermill": {
     "duration": 0.005722,
     "end_time": "2023-11-23T22:03:29.007716",
     "exception": false,
     "start_time": "2023-11-23T22:03:29.001994",
     "status": "completed"
    },
    "tags": []
   },
   "source": []
  }
 ],
 "metadata": {
  "kaggle": {
   "accelerator": "none",
   "dataSources": [
    {
     "datasetId": 3955596,
     "sourceId": 7021924,
     "sourceType": "datasetVersion"
    }
   ],
   "dockerImageVersionId": 30587,
   "isGpuEnabled": false,
   "isInternetEnabled": true,
   "language": "python",
   "sourceType": "notebook"
  },
  "kernelspec": {
   "display_name": "Python 3",
   "language": "python",
   "name": "python3"
  },
  "language_info": {
   "codemirror_mode": {
    "name": "ipython",
    "version": 3
   },
   "file_extension": ".py",
   "mimetype": "text/x-python",
   "name": "python",
   "nbconvert_exporter": "python",
   "pygments_lexer": "ipython3",
   "version": "3.10.12"
  },
  "papermill": {
   "default_parameters": {},
   "duration": 8.102723,
   "end_time": "2023-11-23T22:03:29.633911",
   "environment_variables": {},
   "exception": null,
   "input_path": "__notebook__.ipynb",
   "output_path": "__notebook__.ipynb",
   "parameters": {},
   "start_time": "2023-11-23T22:03:21.531188",
   "version": "2.4.0"
  }
 },
 "nbformat": 4,
 "nbformat_minor": 5
}

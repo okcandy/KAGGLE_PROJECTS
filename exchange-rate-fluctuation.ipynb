{
 "cells": [
  {
   "cell_type": "markdown",
   "id": "09facdde",
   "metadata": {
    "_cell_guid": "b1076dfc-b9ad-4769-8c92-a6c4dae69d19",
    "_uuid": "8f2839f25d086af736a60e9eeb907d3b93b6e0e5",
    "papermill": {
     "duration": 0.00376,
     "end_time": "2023-11-22T21:12:27.262386",
     "exception": false,
     "start_time": "2023-11-22T21:12:27.258626",
     "status": "completed"
    },
    "tags": []
   },
   "source": [
    "# **Overview**"
   ]
  },
  {
   "cell_type": "markdown",
   "id": "eb6d1ea1",
   "metadata": {
    "papermill": {
     "duration": 0.005025,
     "end_time": "2023-11-22T21:12:27.271285",
     "exception": false,
     "start_time": "2023-11-22T21:12:27.266260",
     "status": "completed"
    },
    "tags": []
   },
   "source": [
    "Using forex exchange rate historical data to analyze and predict fluctuations between the values of KES against USD"
   ]
  },
  {
   "cell_type": "markdown",
   "id": "ce2000ea",
   "metadata": {
    "papermill": {
     "duration": 0.003032,
     "end_time": "2023-11-22T21:12:27.277426",
     "exception": false,
     "start_time": "2023-11-22T21:12:27.274394",
     "status": "completed"
    },
    "tags": []
   },
   "source": [
    "## **Libraries**"
   ]
  },
  {
   "cell_type": "code",
   "execution_count": 1,
   "id": "6d95d347",
   "metadata": {
    "execution": {
     "iopub.execute_input": "2023-11-22T21:12:27.286894Z",
     "iopub.status.busy": "2023-11-22T21:12:27.286423Z",
     "iopub.status.idle": "2023-11-22T21:12:30.327289Z",
     "shell.execute_reply": "2023-11-22T21:12:30.325941Z"
    },
    "papermill": {
     "duration": 3.048974,
     "end_time": "2023-11-22T21:12:30.329985",
     "exception": false,
     "start_time": "2023-11-22T21:12:27.281011",
     "status": "completed"
    },
    "tags": []
   },
   "outputs": [],
   "source": [
    "import pandas as pd\n",
    "import numpy as np\n",
    "import matplotlib.pyplot as plt\n",
    "import seaborn as sns\n",
    "import plotly.express as px\n",
    "\n",
    "%matplotlib inline"
   ]
  },
  {
   "cell_type": "markdown",
   "id": "9abc5206",
   "metadata": {
    "papermill": {
     "duration": 0.003074,
     "end_time": "2023-11-22T21:12:30.336254",
     "exception": false,
     "start_time": "2023-11-22T21:12:30.333180",
     "status": "completed"
    },
    "tags": []
   },
   "source": [
    "## **Dataset**"
   ]
  },
  {
   "cell_type": "code",
   "execution_count": 2,
   "id": "dac83911",
   "metadata": {
    "execution": {
     "iopub.execute_input": "2023-11-22T21:12:30.344358Z",
     "iopub.status.busy": "2023-11-22T21:12:30.343755Z",
     "iopub.status.idle": "2023-11-22T21:12:30.830168Z",
     "shell.execute_reply": "2023-11-22T21:12:30.829131Z"
    },
    "papermill": {
     "duration": 0.493301,
     "end_time": "2023-11-22T21:12:30.832642",
     "exception": false,
     "start_time": "2023-11-22T21:12:30.339341",
     "status": "completed"
    },
    "tags": []
   },
   "outputs": [],
   "source": [
    "# Loading csv file into the dataframe\n",
    "data = pd.read_csv('/kaggle/input/forex-exchange-rate-since-2004-updated-daily/daily_forex_rates.csv')"
   ]
  },
  {
   "cell_type": "code",
   "execution_count": 3,
   "id": "f156de50",
   "metadata": {
    "execution": {
     "iopub.execute_input": "2023-11-22T21:12:30.840884Z",
     "iopub.status.busy": "2023-11-22T21:12:30.840453Z",
     "iopub.status.idle": "2023-11-22T21:12:30.868835Z",
     "shell.execute_reply": "2023-11-22T21:12:30.867570Z"
    },
    "papermill": {
     "duration": 0.035364,
     "end_time": "2023-11-22T21:12:30.871305",
     "exception": false,
     "start_time": "2023-11-22T21:12:30.835941",
     "status": "completed"
    },
    "tags": []
   },
   "outputs": [
    {
     "data": {
      "text/html": [
       "<div>\n",
       "<style scoped>\n",
       "    .dataframe tbody tr th:only-of-type {\n",
       "        vertical-align: middle;\n",
       "    }\n",
       "\n",
       "    .dataframe tbody tr th {\n",
       "        vertical-align: top;\n",
       "    }\n",
       "\n",
       "    .dataframe thead th {\n",
       "        text-align: right;\n",
       "    }\n",
       "</style>\n",
       "<table border=\"1\" class=\"dataframe\">\n",
       "  <thead>\n",
       "    <tr style=\"text-align: right;\">\n",
       "      <th></th>\n",
       "      <th>currency</th>\n",
       "      <th>base_currency</th>\n",
       "      <th>currency_name</th>\n",
       "      <th>exchange_rate</th>\n",
       "      <th>date</th>\n",
       "    </tr>\n",
       "  </thead>\n",
       "  <tbody>\n",
       "    <tr>\n",
       "      <th>0</th>\n",
       "      <td>ZWL</td>\n",
       "      <td>EUR</td>\n",
       "      <td>Zimbabwean Dollar</td>\n",
       "      <td>351.355238</td>\n",
       "      <td>2023-11-21</td>\n",
       "    </tr>\n",
       "    <tr>\n",
       "      <th>1</th>\n",
       "      <td>GHS</td>\n",
       "      <td>EUR</td>\n",
       "      <td>Ghanaian Cedi</td>\n",
       "      <td>13.050329</td>\n",
       "      <td>2023-11-21</td>\n",
       "    </tr>\n",
       "    <tr>\n",
       "      <th>2</th>\n",
       "      <td>HRK</td>\n",
       "      <td>EUR</td>\n",
       "      <td>Croatian Kuna</td>\n",
       "      <td>7.683527</td>\n",
       "      <td>2023-11-21</td>\n",
       "    </tr>\n",
       "    <tr>\n",
       "      <th>3</th>\n",
       "      <td>HNL</td>\n",
       "      <td>EUR</td>\n",
       "      <td>Honduran Lempira</td>\n",
       "      <td>26.973222</td>\n",
       "      <td>2023-11-21</td>\n",
       "    </tr>\n",
       "    <tr>\n",
       "      <th>4</th>\n",
       "      <td>HKD</td>\n",
       "      <td>EUR</td>\n",
       "      <td>Hong Kong Dollar</td>\n",
       "      <td>8.506572</td>\n",
       "      <td>2023-11-21</td>\n",
       "    </tr>\n",
       "  </tbody>\n",
       "</table>\n",
       "</div>"
      ],
      "text/plain": [
       "  currency base_currency      currency_name  exchange_rate        date\n",
       "0      ZWL           EUR  Zimbabwean Dollar     351.355238  2023-11-21\n",
       "1      GHS           EUR      Ghanaian Cedi      13.050329  2023-11-21\n",
       "2      HRK           EUR      Croatian Kuna       7.683527  2023-11-21\n",
       "3      HNL           EUR   Honduran Lempira      26.973222  2023-11-21\n",
       "4      HKD           EUR   Hong Kong Dollar       8.506572  2023-11-21"
      ]
     },
     "execution_count": 3,
     "metadata": {},
     "output_type": "execute_result"
    }
   ],
   "source": [
    "# Data overview\n",
    "data.head()"
   ]
  },
  {
   "cell_type": "code",
   "execution_count": 4,
   "id": "fd4a4bd1",
   "metadata": {
    "execution": {
     "iopub.execute_input": "2023-11-22T21:12:30.880463Z",
     "iopub.status.busy": "2023-11-22T21:12:30.879453Z",
     "iopub.status.idle": "2023-11-22T21:12:30.969867Z",
     "shell.execute_reply": "2023-11-22T21:12:30.968865Z"
    },
    "papermill": {
     "duration": 0.097457,
     "end_time": "2023-11-22T21:12:30.972163",
     "exception": false,
     "start_time": "2023-11-22T21:12:30.874706",
     "status": "completed"
    },
    "tags": []
   },
   "outputs": [
    {
     "name": "stdout",
     "output_type": "stream",
     "text": [
      "<class 'pandas.core.frame.DataFrame'>\n",
      "RangeIndex: 320684 entries, 0 to 320683\n",
      "Data columns (total 5 columns):\n",
      " #   Column         Non-Null Count   Dtype  \n",
      "---  ------         --------------   -----  \n",
      " 0   currency       320684 non-null  object \n",
      " 1   base_currency  320684 non-null  object \n",
      " 2   currency_name  320684 non-null  object \n",
      " 3   exchange_rate  320684 non-null  float64\n",
      " 4   date           320684 non-null  object \n",
      "dtypes: float64(1), object(4)\n",
      "memory usage: 12.2+ MB\n"
     ]
    }
   ],
   "source": [
    "data.info()"
   ]
  },
  {
   "cell_type": "code",
   "execution_count": 5,
   "id": "76dd433e",
   "metadata": {
    "execution": {
     "iopub.execute_input": "2023-11-22T21:12:30.984763Z",
     "iopub.status.busy": "2023-11-22T21:12:30.984291Z",
     "iopub.status.idle": "2023-11-22T21:12:31.049942Z",
     "shell.execute_reply": "2023-11-22T21:12:31.048781Z"
    },
    "papermill": {
     "duration": 0.072912,
     "end_time": "2023-11-22T21:12:31.052633",
     "exception": false,
     "start_time": "2023-11-22T21:12:30.979721",
     "status": "completed"
    },
    "tags": []
   },
   "outputs": [
    {
     "name": "stdout",
     "output_type": "stream",
     "text": [
      "currency         0\n",
      "base_currency    0\n",
      "currency_name    0\n",
      "exchange_rate    0\n",
      "date             0\n",
      "dtype: int64\n"
     ]
    }
   ],
   "source": [
    "# Checking for null values\n",
    "print(data.isnull().sum())"
   ]
  },
  {
   "cell_type": "markdown",
   "id": "6001b1da",
   "metadata": {
    "papermill": {
     "duration": 0.003488,
     "end_time": "2023-11-22T21:12:31.060101",
     "exception": false,
     "start_time": "2023-11-22T21:12:31.056613",
     "status": "completed"
    },
    "tags": []
   },
   "source": []
  }
 ],
 "metadata": {
  "kaggle": {
   "accelerator": "none",
   "dataSources": [
    {
     "datasetId": 3955596,
     "sourceId": 7021924,
     "sourceType": "datasetVersion"
    }
   ],
   "dockerImageVersionId": 30587,
   "isGpuEnabled": false,
   "isInternetEnabled": true,
   "language": "python",
   "sourceType": "notebook"
  },
  "kernelspec": {
   "display_name": "Python 3",
   "language": "python",
   "name": "python3"
  },
  "language_info": {
   "codemirror_mode": {
    "name": "ipython",
    "version": 3
   },
   "file_extension": ".py",
   "mimetype": "text/x-python",
   "name": "python",
   "nbconvert_exporter": "python",
   "pygments_lexer": "ipython3",
   "version": "3.10.12"
  },
  "papermill": {
   "default_parameters": {},
   "duration": 7.724733,
   "end_time": "2023-11-22T21:12:31.786076",
   "environment_variables": {},
   "exception": null,
   "input_path": "__notebook__.ipynb",
   "output_path": "__notebook__.ipynb",
   "parameters": {},
   "start_time": "2023-11-22T21:12:24.061343",
   "version": "2.4.0"
  }
 },
 "nbformat": 4,
 "nbformat_minor": 5
}

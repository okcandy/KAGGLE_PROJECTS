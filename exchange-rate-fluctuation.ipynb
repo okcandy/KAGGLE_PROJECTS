{
 "cells": [
  {
   "cell_type": "markdown",
   "id": "ac15381a",
   "metadata": {
    "_cell_guid": "b1076dfc-b9ad-4769-8c92-a6c4dae69d19",
    "_uuid": "8f2839f25d086af736a60e9eeb907d3b93b6e0e5",
    "papermill": {
     "duration": 0.00402,
     "end_time": "2023-11-23T22:29:26.835125",
     "exception": false,
     "start_time": "2023-11-23T22:29:26.831105",
     "status": "completed"
    },
    "tags": []
   },
   "source": [
    "# **Overview**"
   ]
  },
  {
   "cell_type": "markdown",
   "id": "b0b99f77",
   "metadata": {
    "papermill": {
     "duration": 0.002715,
     "end_time": "2023-11-23T22:29:26.843446",
     "exception": false,
     "start_time": "2023-11-23T22:29:26.840731",
     "status": "completed"
    },
    "tags": []
   },
   "source": [
    "Using forex exchange rate historical data to analyze and predict fluctuations between the values of KES against USD"
   ]
  },
  {
   "cell_type": "markdown",
   "id": "da70fc94",
   "metadata": {
    "papermill": {
     "duration": 0.002584,
     "end_time": "2023-11-23T22:29:26.848806",
     "exception": false,
     "start_time": "2023-11-23T22:29:26.846222",
     "status": "completed"
    },
    "tags": []
   },
   "source": [
    "## **Libraries**"
   ]
  },
  {
   "cell_type": "code",
   "execution_count": 1,
   "id": "c83a303e",
   "metadata": {
    "execution": {
     "iopub.execute_input": "2023-11-23T22:29:26.856301Z",
     "iopub.status.busy": "2023-11-23T22:29:26.855923Z",
     "iopub.status.idle": "2023-11-23T22:29:29.726739Z",
     "shell.execute_reply": "2023-11-23T22:29:29.725365Z"
    },
    "papermill": {
     "duration": 2.878344,
     "end_time": "2023-11-23T22:29:29.729889",
     "exception": false,
     "start_time": "2023-11-23T22:29:26.851545",
     "status": "completed"
    },
    "tags": []
   },
   "outputs": [],
   "source": [
    "import pandas as pd\n",
    "import numpy as np\n",
    "import matplotlib.pyplot as plt\n",
    "import seaborn as sns\n",
    "import plotly.express as px\n",
    "\n",
    "from statsmodels.tsa.arima.model import ARIMA\n",
    "\n",
    "%matplotlib inline"
   ]
  },
  {
   "cell_type": "markdown",
   "id": "5625e8cd",
   "metadata": {
    "papermill": {
     "duration": 0.003138,
     "end_time": "2023-11-23T22:29:29.737133",
     "exception": false,
     "start_time": "2023-11-23T22:29:29.733995",
     "status": "completed"
    },
    "tags": []
   },
   "source": [
    "## **Dataset**"
   ]
  },
  {
   "cell_type": "code",
   "execution_count": 2,
   "id": "030739af",
   "metadata": {
    "execution": {
     "iopub.execute_input": "2023-11-23T22:29:29.745446Z",
     "iopub.status.busy": "2023-11-23T22:29:29.744887Z",
     "iopub.status.idle": "2023-11-23T22:29:30.232834Z",
     "shell.execute_reply": "2023-11-23T22:29:30.231362Z"
    },
    "papermill": {
     "duration": 0.495969,
     "end_time": "2023-11-23T22:29:30.236344",
     "exception": false,
     "start_time": "2023-11-23T22:29:29.740375",
     "status": "completed"
    },
    "tags": []
   },
   "outputs": [],
   "source": [
    "# Loading csv file into the dataframe\n",
    "data = pd.read_csv('/kaggle/input/forex-exchange-rate-since-2004-updated-daily/daily_forex_rates.csv')"
   ]
  },
  {
   "cell_type": "code",
   "execution_count": 3,
   "id": "f69db594",
   "metadata": {
    "execution": {
     "iopub.execute_input": "2023-11-23T22:29:30.245500Z",
     "iopub.status.busy": "2023-11-23T22:29:30.245099Z",
     "iopub.status.idle": "2023-11-23T22:29:30.275123Z",
     "shell.execute_reply": "2023-11-23T22:29:30.274240Z"
    },
    "papermill": {
     "duration": 0.036662,
     "end_time": "2023-11-23T22:29:30.276921",
     "exception": false,
     "start_time": "2023-11-23T22:29:30.240259",
     "status": "completed"
    },
    "tags": []
   },
   "outputs": [
    {
     "data": {
      "text/html": [
       "<div>\n",
       "<style scoped>\n",
       "    .dataframe tbody tr th:only-of-type {\n",
       "        vertical-align: middle;\n",
       "    }\n",
       "\n",
       "    .dataframe tbody tr th {\n",
       "        vertical-align: top;\n",
       "    }\n",
       "\n",
       "    .dataframe thead th {\n",
       "        text-align: right;\n",
       "    }\n",
       "</style>\n",
       "<table border=\"1\" class=\"dataframe\">\n",
       "  <thead>\n",
       "    <tr style=\"text-align: right;\">\n",
       "      <th></th>\n",
       "      <th>currency</th>\n",
       "      <th>base_currency</th>\n",
       "      <th>currency_name</th>\n",
       "      <th>exchange_rate</th>\n",
       "      <th>date</th>\n",
       "    </tr>\n",
       "  </thead>\n",
       "  <tbody>\n",
       "    <tr>\n",
       "      <th>0</th>\n",
       "      <td>ZWL</td>\n",
       "      <td>EUR</td>\n",
       "      <td>Zimbabwean Dollar</td>\n",
       "      <td>351.148510</td>\n",
       "      <td>2023-11-23</td>\n",
       "    </tr>\n",
       "    <tr>\n",
       "      <th>1</th>\n",
       "      <td>GHS</td>\n",
       "      <td>EUR</td>\n",
       "      <td>Ghanaian Cedi</td>\n",
       "      <td>13.084117</td>\n",
       "      <td>2023-11-23</td>\n",
       "    </tr>\n",
       "    <tr>\n",
       "      <th>2</th>\n",
       "      <td>HRK</td>\n",
       "      <td>EUR</td>\n",
       "      <td>Croatian Kuna</td>\n",
       "      <td>7.679006</td>\n",
       "      <td>2023-11-23</td>\n",
       "    </tr>\n",
       "    <tr>\n",
       "      <th>3</th>\n",
       "      <td>HNL</td>\n",
       "      <td>EUR</td>\n",
       "      <td>Honduran Lempira</td>\n",
       "      <td>26.943692</td>\n",
       "      <td>2023-11-23</td>\n",
       "    </tr>\n",
       "    <tr>\n",
       "      <th>4</th>\n",
       "      <td>HKD</td>\n",
       "      <td>EUR</td>\n",
       "      <td>Hong Kong Dollar</td>\n",
       "      <td>8.505384</td>\n",
       "      <td>2023-11-23</td>\n",
       "    </tr>\n",
       "    <tr>\n",
       "      <th>...</th>\n",
       "      <td>...</td>\n",
       "      <td>...</td>\n",
       "      <td>...</td>\n",
       "      <td>...</td>\n",
       "      <td>...</td>\n",
       "    </tr>\n",
       "    <tr>\n",
       "      <th>65</th>\n",
       "      <td>BTC</td>\n",
       "      <td>EUR</td>\n",
       "      <td>Bitcoin</td>\n",
       "      <td>0.000029</td>\n",
       "      <td>2023-11-23</td>\n",
       "    </tr>\n",
       "    <tr>\n",
       "      <th>66</th>\n",
       "      <td>CZK</td>\n",
       "      <td>EUR</td>\n",
       "      <td>Czech Republic Koruna</td>\n",
       "      <td>24.388824</td>\n",
       "      <td>2023-11-23</td>\n",
       "    </tr>\n",
       "    <tr>\n",
       "      <th>67</th>\n",
       "      <td>CVE</td>\n",
       "      <td>EUR</td>\n",
       "      <td>Cape Verdean Escudo</td>\n",
       "      <td>110.240709</td>\n",
       "      <td>2023-11-23</td>\n",
       "    </tr>\n",
       "    <tr>\n",
       "      <th>68</th>\n",
       "      <td>CUP</td>\n",
       "      <td>EUR</td>\n",
       "      <td>Cuban Peso</td>\n",
       "      <td>28.898905</td>\n",
       "      <td>2023-11-23</td>\n",
       "    </tr>\n",
       "    <tr>\n",
       "      <th>69</th>\n",
       "      <td>CUC</td>\n",
       "      <td>EUR</td>\n",
       "      <td>Cuban Convertible Peso</td>\n",
       "      <td>1.090525</td>\n",
       "      <td>2023-11-23</td>\n",
       "    </tr>\n",
       "  </tbody>\n",
       "</table>\n",
       "<p>70 rows × 5 columns</p>\n",
       "</div>"
      ],
      "text/plain": [
       "   currency base_currency           currency_name  exchange_rate        date\n",
       "0       ZWL           EUR       Zimbabwean Dollar     351.148510  2023-11-23\n",
       "1       GHS           EUR           Ghanaian Cedi      13.084117  2023-11-23\n",
       "2       HRK           EUR           Croatian Kuna       7.679006  2023-11-23\n",
       "3       HNL           EUR        Honduran Lempira      26.943692  2023-11-23\n",
       "4       HKD           EUR        Hong Kong Dollar       8.505384  2023-11-23\n",
       "..      ...           ...                     ...            ...         ...\n",
       "65      BTC           EUR                 Bitcoin       0.000029  2023-11-23\n",
       "66      CZK           EUR   Czech Republic Koruna      24.388824  2023-11-23\n",
       "67      CVE           EUR     Cape Verdean Escudo     110.240709  2023-11-23\n",
       "68      CUP           EUR              Cuban Peso      28.898905  2023-11-23\n",
       "69      CUC           EUR  Cuban Convertible Peso       1.090525  2023-11-23\n",
       "\n",
       "[70 rows x 5 columns]"
      ]
     },
     "execution_count": 3,
     "metadata": {},
     "output_type": "execute_result"
    }
   ],
   "source": [
    "# Data overview\n",
    "data.head(70)"
   ]
  },
  {
   "cell_type": "code",
   "execution_count": 4,
   "id": "4adc7067",
   "metadata": {
    "execution": {
     "iopub.execute_input": "2023-11-23T22:29:30.285467Z",
     "iopub.status.busy": "2023-11-23T22:29:30.284949Z",
     "iopub.status.idle": "2023-11-23T22:29:30.349118Z",
     "shell.execute_reply": "2023-11-23T22:29:30.347710Z"
    },
    "papermill": {
     "duration": 0.071621,
     "end_time": "2023-11-23T22:29:30.351921",
     "exception": false,
     "start_time": "2023-11-23T22:29:30.280300",
     "status": "completed"
    },
    "tags": []
   },
   "outputs": [
    {
     "name": "stdout",
     "output_type": "stream",
     "text": [
      "<class 'pandas.core.frame.DataFrame'>\n",
      "RangeIndex: 321022 entries, 0 to 321021\n",
      "Data columns (total 5 columns):\n",
      " #   Column         Non-Null Count   Dtype  \n",
      "---  ------         --------------   -----  \n",
      " 0   currency       321022 non-null  object \n",
      " 1   base_currency  321022 non-null  object \n",
      " 2   currency_name  321022 non-null  object \n",
      " 3   exchange_rate  321022 non-null  float64\n",
      " 4   date           321022 non-null  object \n",
      "dtypes: float64(1), object(4)\n",
      "memory usage: 12.2+ MB\n"
     ]
    }
   ],
   "source": [
    "data.info()"
   ]
  },
  {
   "cell_type": "code",
   "execution_count": 5,
   "id": "2f5cac0e",
   "metadata": {
    "execution": {
     "iopub.execute_input": "2023-11-23T22:29:30.362629Z",
     "iopub.status.busy": "2023-11-23T22:29:30.361261Z",
     "iopub.status.idle": "2023-11-23T22:29:30.395692Z",
     "shell.execute_reply": "2023-11-23T22:29:30.395001Z"
    },
    "papermill": {
     "duration": 0.04146,
     "end_time": "2023-11-23T22:29:30.397665",
     "exception": false,
     "start_time": "2023-11-23T22:29:30.356205",
     "status": "completed"
    },
    "tags": []
   },
   "outputs": [
    {
     "data": {
      "text/html": [
       "<div>\n",
       "<style scoped>\n",
       "    .dataframe tbody tr th:only-of-type {\n",
       "        vertical-align: middle;\n",
       "    }\n",
       "\n",
       "    .dataframe tbody tr th {\n",
       "        vertical-align: top;\n",
       "    }\n",
       "\n",
       "    .dataframe thead th {\n",
       "        text-align: right;\n",
       "    }\n",
       "</style>\n",
       "<table border=\"1\" class=\"dataframe\">\n",
       "  <thead>\n",
       "    <tr style=\"text-align: right;\">\n",
       "      <th></th>\n",
       "      <th>exchange_rate</th>\n",
       "    </tr>\n",
       "  </thead>\n",
       "  <tbody>\n",
       "    <tr>\n",
       "      <th>count</th>\n",
       "      <td>3.210220e+05</td>\n",
       "    </tr>\n",
       "    <tr>\n",
       "      <th>mean</th>\n",
       "      <td>3.874597e+03</td>\n",
       "    </tr>\n",
       "    <tr>\n",
       "      <th>std</th>\n",
       "      <td>9.379452e+04</td>\n",
       "    </tr>\n",
       "    <tr>\n",
       "      <th>min</th>\n",
       "      <td>2.876543e-05</td>\n",
       "    </tr>\n",
       "    <tr>\n",
       "      <th>25%</th>\n",
       "      <td>2.776225e+00</td>\n",
       "    </tr>\n",
       "    <tr>\n",
       "      <th>50%</th>\n",
       "      <td>1.713305e+01</td>\n",
       "    </tr>\n",
       "    <tr>\n",
       "      <th>75%</th>\n",
       "      <td>1.455157e+02</td>\n",
       "    </tr>\n",
       "    <tr>\n",
       "      <th>max</th>\n",
       "      <td>4.881841e+06</td>\n",
       "    </tr>\n",
       "  </tbody>\n",
       "</table>\n",
       "</div>"
      ],
      "text/plain": [
       "       exchange_rate\n",
       "count   3.210220e+05\n",
       "mean    3.874597e+03\n",
       "std     9.379452e+04\n",
       "min     2.876543e-05\n",
       "25%     2.776225e+00\n",
       "50%     1.713305e+01\n",
       "75%     1.455157e+02\n",
       "max     4.881841e+06"
      ]
     },
     "execution_count": 5,
     "metadata": {},
     "output_type": "execute_result"
    }
   ],
   "source": [
    "data.describe()"
   ]
  },
  {
   "cell_type": "code",
   "execution_count": 6,
   "id": "7596143d",
   "metadata": {
    "execution": {
     "iopub.execute_input": "2023-11-23T22:29:30.408266Z",
     "iopub.status.busy": "2023-11-23T22:29:30.406678Z",
     "iopub.status.idle": "2023-11-23T22:29:30.452782Z",
     "shell.execute_reply": "2023-11-23T22:29:30.451264Z"
    },
    "papermill": {
     "duration": 0.053459,
     "end_time": "2023-11-23T22:29:30.454834",
     "exception": false,
     "start_time": "2023-11-23T22:29:30.401375",
     "status": "completed"
    },
    "tags": []
   },
   "outputs": [
    {
     "name": "stdout",
     "output_type": "stream",
     "text": [
      "currency         0\n",
      "base_currency    0\n",
      "currency_name    0\n",
      "exchange_rate    0\n",
      "date             0\n",
      "dtype: int64\n"
     ]
    }
   ],
   "source": [
    "# Checking for null values\n",
    "print(data.isnull().sum())"
   ]
  },
  {
   "cell_type": "code",
   "execution_count": 7,
   "id": "1a58c8d0",
   "metadata": {
    "execution": {
     "iopub.execute_input": "2023-11-23T22:29:30.465236Z",
     "iopub.status.busy": "2023-11-23T22:29:30.463737Z",
     "iopub.status.idle": "2023-11-23T22:29:30.809767Z",
     "shell.execute_reply": "2023-11-23T22:29:30.808795Z"
    },
    "papermill": {
     "duration": 0.353487,
     "end_time": "2023-11-23T22:29:30.812212",
     "exception": false,
     "start_time": "2023-11-23T22:29:30.458725",
     "status": "completed"
    },
    "tags": []
   },
   "outputs": [
    {
     "data": {
      "image/png": "[encoded data removed]",
      "text/plain": [
       "<Figure size 1000x600 with 1 Axes>"
      ]
     },
     "metadata": {},
     "output_type": "display_data"
    }
   ],
   "source": [
    "# Historical exchange rates between KES/EUR\n",
    "my_currency_index = data['currency'] == 'KES'\n",
    "data.loc[my_currency_index, 'date'] = pd.to_datetime(data.loc[my_currency_index, 'date'])\n",
    "my_currency = data[my_currency_index]                                  \n",
    "my_currency = my_currency.sort_values(by='date')\n",
    "\n",
    "\n",
    "plt.figure(figsize=(10, 6))\n",
    "plt.plot(my_currency['date'], my_currency['exchange_rate'], marker = 'o', linestyle = '-')\n",
    "plt.xlabel(\"Date\")\n",
    "plt.ylabel(\"KES - Kenya Shillings\")\n",
    "plt.title(\"Exchange rate (EUR to KES)\")                                                      \n",
    "plt.xticks(rotation=45)\n",
    "plt.grid(True)\n",
    "plt.tight_layout()\n",
    "\n",
    "\n",
    "plt.show()\n",
    "\n"
   ]
  },
  {
   "cell_type": "markdown",
   "id": "6821e76c",
   "metadata": {
    "papermill": {
     "duration": 0.004533,
     "end_time": "2023-11-23T22:29:30.821595",
     "exception": false,
     "start_time": "2023-11-23T22:29:30.817062",
     "status": "completed"
    },
    "tags": []
   },
   "source": []
  },
  {
   "cell_type": "code",
   "execution_count": 8,
   "id": "0e9f74f1",
   "metadata": {
    "execution": {
     "iopub.execute_input": "2023-11-23T22:29:30.834206Z",
     "iopub.status.busy": "2023-11-23T22:29:30.832894Z",
     "iopub.status.idle": "2023-11-23T22:29:30.839958Z",
     "shell.execute_reply": "2023-11-23T22:29:30.839335Z"
    },
    "papermill": {
     "duration": 0.016159,
     "end_time": "2023-11-23T22:29:30.842339",
     "exception": false,
     "start_time": "2023-11-23T22:29:30.826180",
     "status": "completed"
    },
    "tags": []
   },
   "outputs": [
    {
     "name": "stdout",
     "output_type": "stream",
     "text": [
      "Mean: 162.79\n",
      "Max: 166.84\n",
      "Min: 156.09\n",
      "Standard Deviation: 2.928355\n"
     ]
    }
   ],
   "source": [
    "# Overall performance analysis\n",
    "rates = np.array(my_currency['exchange_rate'])\n",
    "mean_rate = np.mean(rates)\n",
    "max_rate = np.max(rates)\n",
    "min_rate = np.min(rates)\n",
    "stddev_rate = np.std(rates)\n",
    "\n",
    "\n",
    "print(f\"Mean: {mean_rate:.2f}\")\n",
    "print(f\"Max: {max_rate:.2f}\")\n",
    "print(f\"Min: {min_rate:.2f}\")\n",
    "print(f\"Standard Deviation: {stddev_rate:2f}\")\n",
    "\n"
   ]
  }
 ],
 "metadata": {
  "kaggle": {
   "accelerator": "none",
   "dataSources": [
    {
     "datasetId": 3955596,
     "sourceId": 7021924,
     "sourceType": "datasetVersion"
    }
   ],
   "dockerImageVersionId": 30587,
   "isGpuEnabled": false,
   "isInternetEnabled": true,
   "language": "python",
   "sourceType": "notebook"
  },
  "kernelspec": {
   "display_name": "Python 3",
   "language": "python",
   "name": "python3"
  },
  "language_info": {
   "codemirror_mode": {
    "name": "ipython",
    "version": 3
   },
   "file_extension": ".py",
   "mimetype": "text/x-python",
   "name": "python",
   "nbconvert_exporter": "python",
   "pygments_lexer": "ipython3",
   "version": "3.10.12"
  },
  "papermill": {
   "default_parameters": {},
   "duration": 7.429203,
   "end_time": "2023-11-23T22:29:31.571881",
   "environment_variables": {},
   "exception": null,
   "input_path": "__notebook__.ipynb",
   "output_path": "__notebook__.ipynb",
   "parameters": {},
   "start_time": "2023-11-23T22:29:24.142678",
   "version": "2.4.0"
  }
 },
 "nbformat": 4,
 "nbformat_minor": 5
}

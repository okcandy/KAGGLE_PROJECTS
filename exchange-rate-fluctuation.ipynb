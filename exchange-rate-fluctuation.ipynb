{
 "cells": [
  {
   "cell_type": "markdown",
   "id": "33d1b684",
   "metadata": {
    "_cell_guid": "b1076dfc-b9ad-4769-8c92-a6c4dae69d19",
    "_uuid": "8f2839f25d086af736a60e9eeb907d3b93b6e0e5",
    "papermill": {
     "duration": 0.00546,
     "end_time": "2023-11-23T21:57:40.178356",
     "exception": false,
     "start_time": "2023-11-23T21:57:40.172896",
     "status": "completed"
    },
    "tags": []
   },
   "source": [
    "# **Overview**"
   ]
  },
  {
   "cell_type": "markdown",
   "id": "98f63dcd",
   "metadata": {
    "papermill": {
     "duration": 0.004418,
     "end_time": "2023-11-23T21:57:40.189832",
     "exception": false,
     "start_time": "2023-11-23T21:57:40.185414",
     "status": "completed"
    },
    "tags": []
   },
   "source": [
    "Using forex exchange rate historical data to analyze and predict fluctuations between the values of KES against USD"
   ]
  },
  {
   "cell_type": "markdown",
   "id": "658e9f1e",
   "metadata": {
    "papermill": {
     "duration": 0.004278,
     "end_time": "2023-11-23T21:57:40.198778",
     "exception": false,
     "start_time": "2023-11-23T21:57:40.194500",
     "status": "completed"
    },
    "tags": []
   },
   "source": [
    "## **Libraries**"
   ]
  },
  {
   "cell_type": "code",
   "execution_count": 1,
   "id": "2e8b4044",
   "metadata": {
    "execution": {
     "iopub.execute_input": "2023-11-23T21:57:40.210333Z",
     "iopub.status.busy": "2023-11-23T21:57:40.209901Z",
     "iopub.status.idle": "2023-11-23T21:57:43.315997Z",
     "shell.execute_reply": "2023-11-23T21:57:43.314842Z"
    },
    "papermill": {
     "duration": 3.115737,
     "end_time": "2023-11-23T21:57:43.319130",
     "exception": false,
     "start_time": "2023-11-23T21:57:40.203393",
     "status": "completed"
    },
    "tags": []
   },
   "outputs": [],
   "source": [
    "import pandas as pd\n",
    "import numpy as np\n",
    "import matplotlib.pyplot as plt\n",
    "import seaborn as sns\n",
    "import plotly.express as px\n",
    "\n",
    "%matplotlib inline"
   ]
  },
  {
   "cell_type": "markdown",
   "id": "cc85a2f0",
   "metadata": {
    "papermill": {
     "duration": 0.004447,
     "end_time": "2023-11-23T21:57:43.328356",
     "exception": false,
     "start_time": "2023-11-23T21:57:43.323909",
     "status": "completed"
    },
    "tags": []
   },
   "source": [
    "## **Dataset**"
   ]
  },
  {
   "cell_type": "code",
   "execution_count": 2,
   "id": "ee1e830b",
   "metadata": {
    "execution": {
     "iopub.execute_input": "2023-11-23T21:57:43.339882Z",
     "iopub.status.busy": "2023-11-23T21:57:43.339260Z",
     "iopub.status.idle": "2023-11-23T21:57:43.866590Z",
     "shell.execute_reply": "2023-11-23T21:57:43.865456Z"
    },
    "papermill": {
     "duration": 0.536201,
     "end_time": "2023-11-23T21:57:43.869370",
     "exception": false,
     "start_time": "2023-11-23T21:57:43.333169",
     "status": "completed"
    },
    "tags": []
   },
   "outputs": [],
   "source": [
    "# Loading csv file into the dataframe\n",
    "data = pd.read_csv('/kaggle/input/forex-exchange-rate-since-2004-updated-daily/daily_forex_rates.csv')"
   ]
  },
  {
   "cell_type": "code",
   "execution_count": 3,
   "id": "dcd58ec4",
   "metadata": {
    "execution": {
     "iopub.execute_input": "2023-11-23T21:57:43.881729Z",
     "iopub.status.busy": "2023-11-23T21:57:43.881334Z",
     "iopub.status.idle": "2023-11-23T21:57:43.911872Z",
     "shell.execute_reply": "2023-11-23T21:57:43.910351Z"
    },
    "papermill": {
     "duration": 0.040329,
     "end_time": "2023-11-23T21:57:43.914958",
     "exception": false,
     "start_time": "2023-11-23T21:57:43.874629",
     "status": "completed"
    },
    "tags": []
   },
   "outputs": [
    {
     "data": {
      "text/html": [
       "<div>\n",
       "<style scoped>\n",
       "    .dataframe tbody tr th:only-of-type {\n",
       "        vertical-align: middle;\n",
       "    }\n",
       "\n",
       "    .dataframe tbody tr th {\n",
       "        vertical-align: top;\n",
       "    }\n",
       "\n",
       "    .dataframe thead th {\n",
       "        text-align: right;\n",
       "    }\n",
       "</style>\n",
       "<table border=\"1\" class=\"dataframe\">\n",
       "  <thead>\n",
       "    <tr style=\"text-align: right;\">\n",
       "      <th></th>\n",
       "      <th>currency</th>\n",
       "      <th>base_currency</th>\n",
       "      <th>currency_name</th>\n",
       "      <th>exchange_rate</th>\n",
       "      <th>date</th>\n",
       "    </tr>\n",
       "  </thead>\n",
       "  <tbody>\n",
       "    <tr>\n",
       "      <th>0</th>\n",
       "      <td>ZWL</td>\n",
       "      <td>EUR</td>\n",
       "      <td>Zimbabwean Dollar</td>\n",
       "      <td>350.552056</td>\n",
       "      <td>2023-11-22</td>\n",
       "    </tr>\n",
       "    <tr>\n",
       "      <th>1</th>\n",
       "      <td>GHS</td>\n",
       "      <td>EUR</td>\n",
       "      <td>Ghanaian Cedi</td>\n",
       "      <td>12.996958</td>\n",
       "      <td>2023-11-22</td>\n",
       "    </tr>\n",
       "    <tr>\n",
       "      <th>2</th>\n",
       "      <td>HRK</td>\n",
       "      <td>EUR</td>\n",
       "      <td>Croatian Kuna</td>\n",
       "      <td>7.665963</td>\n",
       "      <td>2023-11-22</td>\n",
       "    </tr>\n",
       "    <tr>\n",
       "      <th>3</th>\n",
       "      <td>HNL</td>\n",
       "      <td>EUR</td>\n",
       "      <td>Honduran Lempira</td>\n",
       "      <td>26.867725</td>\n",
       "      <td>2023-11-22</td>\n",
       "    </tr>\n",
       "    <tr>\n",
       "      <th>4</th>\n",
       "      <td>HKD</td>\n",
       "      <td>EUR</td>\n",
       "      <td>Hong Kong Dollar</td>\n",
       "      <td>8.487236</td>\n",
       "      <td>2023-11-22</td>\n",
       "    </tr>\n",
       "    <tr>\n",
       "      <th>5</th>\n",
       "      <td>GYD</td>\n",
       "      <td>EUR</td>\n",
       "      <td>Guyanaese Dollar</td>\n",
       "      <td>227.631403</td>\n",
       "      <td>2023-11-22</td>\n",
       "    </tr>\n",
       "    <tr>\n",
       "      <th>6</th>\n",
       "      <td>GTQ</td>\n",
       "      <td>EUR</td>\n",
       "      <td>Guatemalan Quetzal</td>\n",
       "      <td>8.517432</td>\n",
       "      <td>2023-11-22</td>\n",
       "    </tr>\n",
       "    <tr>\n",
       "      <th>7</th>\n",
       "      <td>GNF</td>\n",
       "      <td>EUR</td>\n",
       "      <td>Guinean Franc</td>\n",
       "      <td>9346.990346</td>\n",
       "      <td>2023-11-22</td>\n",
       "    </tr>\n",
       "    <tr>\n",
       "      <th>8</th>\n",
       "      <td>GMD</td>\n",
       "      <td>EUR</td>\n",
       "      <td>Gambian Dalasi</td>\n",
       "      <td>73.213701</td>\n",
       "      <td>2023-11-22</td>\n",
       "    </tr>\n",
       "    <tr>\n",
       "      <th>9</th>\n",
       "      <td>GIP</td>\n",
       "      <td>EUR</td>\n",
       "      <td>Gibraltar Pound</td>\n",
       "      <td>0.868294</td>\n",
       "      <td>2023-11-22</td>\n",
       "    </tr>\n",
       "  </tbody>\n",
       "</table>\n",
       "</div>"
      ],
      "text/plain": [
       "  currency base_currency       currency_name  exchange_rate        date\n",
       "0      ZWL           EUR   Zimbabwean Dollar     350.552056  2023-11-22\n",
       "1      GHS           EUR       Ghanaian Cedi      12.996958  2023-11-22\n",
       "2      HRK           EUR       Croatian Kuna       7.665963  2023-11-22\n",
       "3      HNL           EUR    Honduran Lempira      26.867725  2023-11-22\n",
       "4      HKD           EUR    Hong Kong Dollar       8.487236  2023-11-22\n",
       "5      GYD           EUR    Guyanaese Dollar     227.631403  2023-11-22\n",
       "6      GTQ           EUR  Guatemalan Quetzal       8.517432  2023-11-22\n",
       "7      GNF           EUR       Guinean Franc    9346.990346  2023-11-22\n",
       "8      GMD           EUR      Gambian Dalasi      73.213701  2023-11-22\n",
       "9      GIP           EUR     Gibraltar Pound       0.868294  2023-11-22"
      ]
     },
     "execution_count": 3,
     "metadata": {},
     "output_type": "execute_result"
    }
   ],
   "source": [
    "# Data overview\n",
    "data.head(10)"
   ]
  },
  {
   "cell_type": "code",
   "execution_count": 4,
   "id": "0fcee01b",
   "metadata": {
    "execution": {
     "iopub.execute_input": "2023-11-23T21:57:43.927413Z",
     "iopub.status.busy": "2023-11-23T21:57:43.926943Z",
     "iopub.status.idle": "2023-11-23T21:57:44.091608Z",
     "shell.execute_reply": "2023-11-23T21:57:44.089885Z"
    },
    "papermill": {
     "duration": 0.175084,
     "end_time": "2023-11-23T21:57:44.095312",
     "exception": false,
     "start_time": "2023-11-23T21:57:43.920228",
     "status": "completed"
    },
    "tags": []
   },
   "outputs": [
    {
     "name": "stdout",
     "output_type": "stream",
     "text": [
      "<class 'pandas.core.frame.DataFrame'>\n",
      "RangeIndex: 320853 entries, 0 to 320852\n",
      "Data columns (total 5 columns):\n",
      " #   Column         Non-Null Count   Dtype  \n",
      "---  ------         --------------   -----  \n",
      " 0   currency       320853 non-null  object \n",
      " 1   base_currency  320853 non-null  object \n",
      " 2   currency_name  320853 non-null  object \n",
      " 3   exchange_rate  320853 non-null  float64\n",
      " 4   date           320853 non-null  object \n",
      "dtypes: float64(1), object(4)\n",
      "memory usage: 12.2+ MB\n"
     ]
    }
   ],
   "source": [
    "data.info()"
   ]
  },
  {
   "cell_type": "code",
   "execution_count": 5,
   "id": "03b47e48",
   "metadata": {
    "execution": {
     "iopub.execute_input": "2023-11-23T21:57:44.108271Z",
     "iopub.status.busy": "2023-11-23T21:57:44.107831Z",
     "iopub.status.idle": "2023-11-23T21:57:44.147700Z",
     "shell.execute_reply": "2023-11-23T21:57:44.146310Z"
    },
    "papermill": {
     "duration": 0.050217,
     "end_time": "2023-11-23T21:57:44.150923",
     "exception": false,
     "start_time": "2023-11-23T21:57:44.100706",
     "status": "completed"
    },
    "tags": []
   },
   "outputs": [
    {
     "data": {
      "text/html": [
       "<div>\n",
       "<style scoped>\n",
       "    .dataframe tbody tr th:only-of-type {\n",
       "        vertical-align: middle;\n",
       "    }\n",
       "\n",
       "    .dataframe tbody tr th {\n",
       "        vertical-align: top;\n",
       "    }\n",
       "\n",
       "    .dataframe thead th {\n",
       "        text-align: right;\n",
       "    }\n",
       "</style>\n",
       "<table border=\"1\" class=\"dataframe\">\n",
       "  <thead>\n",
       "    <tr style=\"text-align: right;\">\n",
       "      <th></th>\n",
       "      <th>exchange_rate</th>\n",
       "    </tr>\n",
       "  </thead>\n",
       "  <tbody>\n",
       "    <tr>\n",
       "      <th>count</th>\n",
       "      <td>3.208530e+05</td>\n",
       "    </tr>\n",
       "    <tr>\n",
       "      <th>mean</th>\n",
       "      <td>3.863666e+03</td>\n",
       "    </tr>\n",
       "    <tr>\n",
       "      <th>std</th>\n",
       "      <td>9.357191e+04</td>\n",
       "    </tr>\n",
       "    <tr>\n",
       "      <th>min</th>\n",
       "      <td>2.876543e-05</td>\n",
       "    </tr>\n",
       "    <tr>\n",
       "      <th>25%</th>\n",
       "      <td>2.775700e+00</td>\n",
       "    </tr>\n",
       "    <tr>\n",
       "      <th>50%</th>\n",
       "      <td>1.713200e+01</td>\n",
       "    </tr>\n",
       "    <tr>\n",
       "      <th>75%</th>\n",
       "      <td>1.454249e+02</td>\n",
       "    </tr>\n",
       "    <tr>\n",
       "      <th>max</th>\n",
       "      <td>4.881841e+06</td>\n",
       "    </tr>\n",
       "  </tbody>\n",
       "</table>\n",
       "</div>"
      ],
      "text/plain": [
       "       exchange_rate\n",
       "count   3.208530e+05\n",
       "mean    3.863666e+03\n",
       "std     9.357191e+04\n",
       "min     2.876543e-05\n",
       "25%     2.775700e+00\n",
       "50%     1.713200e+01\n",
       "75%     1.454249e+02\n",
       "max     4.881841e+06"
      ]
     },
     "execution_count": 5,
     "metadata": {},
     "output_type": "execute_result"
    }
   ],
   "source": [
    "data.describe()"
   ]
  },
  {
   "cell_type": "code",
   "execution_count": 6,
   "id": "486c764a",
   "metadata": {
    "execution": {
     "iopub.execute_input": "2023-11-23T21:57:44.164336Z",
     "iopub.status.busy": "2023-11-23T21:57:44.163555Z",
     "iopub.status.idle": "2023-11-23T21:57:44.304672Z",
     "shell.execute_reply": "2023-11-23T21:57:44.303284Z"
    },
    "papermill": {
     "duration": 0.150764,
     "end_time": "2023-11-23T21:57:44.307419",
     "exception": false,
     "start_time": "2023-11-23T21:57:44.156655",
     "status": "completed"
    },
    "tags": []
   },
   "outputs": [
    {
     "name": "stdout",
     "output_type": "stream",
     "text": [
      "currency         0\n",
      "base_currency    0\n",
      "currency_name    0\n",
      "exchange_rate    0\n",
      "date             0\n",
      "dtype: int64\n"
     ]
    }
   ],
   "source": [
    "# Checking for null values\n",
    "print(data.isnull().sum())"
   ]
  },
  {
   "cell_type": "code",
   "execution_count": 7,
   "id": "cff61f26",
   "metadata": {
    "execution": {
     "iopub.execute_input": "2023-11-23T21:57:44.321143Z",
     "iopub.status.busy": "2023-11-23T21:57:44.320467Z",
     "iopub.status.idle": "2023-11-23T21:57:44.899304Z",
     "shell.execute_reply": "2023-11-23T21:57:44.898116Z"
    },
    "papermill": {
     "duration": 0.58933,
     "end_time": "2023-11-23T21:57:44.902526",
     "exception": false,
     "start_time": "2023-11-23T21:57:44.313196",
     "status": "completed"
    },
    "tags": []
   },
   "outputs": [
    {
     "data": {
      "image/png": "[encoded data removed]",
      "text/plain": [
       "<Figure size 1000x600 with 1 Axes>"
      ]
     },
     "metadata": {},
     "output_type": "display_data"
    }
   ],
   "source": [
    "# Historical exchange rates between KES/USD\n",
    "my_currency_index = data['currency'] == 'KES'\n",
    "data.loc[my_currency_index, 'date'] = pd.to_datetime(data.loc[my_currency_index, 'date'])\n",
    "my_currency = data[my_currency_index]                                  \n",
    "my_currency = my_currency.sort_values(by='date')\n",
    "\n",
    "\n",
    "plt.figure(figsize=(10, 6))\n",
    "plt.plot(my_currency['date'], my_currency['exchange_rate'], marker = 'o', linestyle = '-')\n",
    "plt.xlabel(\"Date\")\n",
    "plt.ylabel(\"KES - Kenya Shillings\")\n",
    "plt.title(\"Exchange rate (USD to KES)\")                                                      \n",
    "plt.xticks(rotation=45)\n",
    "plt.grid(True)\n",
    "plt.tight_layout()\n",
    "\n",
    "\n",
    "plt.show()\n",
    "\n"
   ]
  },
  {
   "cell_type": "markdown",
   "id": "7a936ab5",
   "metadata": {
    "papermill": {
     "duration": 0.006413,
     "end_time": "2023-11-23T21:57:44.916268",
     "exception": false,
     "start_time": "2023-11-23T21:57:44.909855",
     "status": "completed"
    },
    "tags": []
   },
   "source": []
  },
  {
   "cell_type": "code",
   "execution_count": null,
   "id": "6a3fee12",
   "metadata": {
    "papermill": {
     "duration": 0.006047,
     "end_time": "2023-11-23T21:57:44.928759",
     "exception": false,
     "start_time": "2023-11-23T21:57:44.922712",
     "status": "completed"
    },
    "tags": []
   },
   "outputs": [],
   "source": []
  }
 ],
 "metadata": {
  "kaggle": {
   "accelerator": "none",
   "dataSources": [
    {
     "datasetId": 3955596,
     "sourceId": 7021924,
     "sourceType": "datasetVersion"
    }
   ],
   "dockerImageVersionId": 30587,
   "isGpuEnabled": false,
   "isInternetEnabled": true,
   "language": "python",
   "sourceType": "notebook"
  },
  "kernelspec": {
   "display_name": "Python 3",
   "language": "python",
   "name": "python3"
  },
  "language_info": {
   "codemirror_mode": {
    "name": "ipython",
    "version": 3
   },
   "file_extension": ".py",
   "mimetype": "text/x-python",
   "name": "python",
   "nbconvert_exporter": "python",
   "pygments_lexer": "ipython3",
   "version": "3.10.12"
  },
  "papermill": {
   "default_parameters": {},
   "duration": 9.10657,
   "end_time": "2023-11-23T21:57:45.658159",
   "environment_variables": {},
   "exception": null,
   "input_path": "__notebook__.ipynb",
   "output_path": "__notebook__.ipynb",
   "parameters": {},
   "start_time": "2023-11-23T21:57:36.551589",
   "version": "2.4.0"
  }
 },
 "nbformat": 4,
 "nbformat_minor": 5
}
